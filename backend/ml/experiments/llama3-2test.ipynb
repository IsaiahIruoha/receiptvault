{
 "cells": [
  {
   "cell_type": "markdown",
   "metadata": {},
   "source": [
    "## LLama 3.2 Pipeline \n",
    "\n",
    "\n",
    "1) Llama3.2 Vision for OCR on image, outputs text\n",
    "2) Llama3.2 3b text based LLM for text understanding and formatting into JSON output"
   ]
  },
  {
   "cell_type": "code",
   "execution_count": null,
   "metadata": {},
   "outputs": [],
   "source": [
    "#llama3.2 non vision 3B param test\n",
    "\n",
    "import base64 \n",
    "import io\n",
    "from PIL import Image \n",
    "import ollama\n",
    "\n",
    "from IPython.display import Image as IPImage, Markdown, display\n",
    "from tqdm import tqdm\n",
    "\n",
    "\n",
    "import json\n",
    "from enum import Enum\n",
    "from pathlib import Path\n",
    "\n",
    "\n",
    "MODEL = \"llama3.2-vision\"\n",
    "TEMPERATURE=0\n",
    "\n",
    "\n"
   ]
  },
  {
   "cell_type": "code",
   "execution_count": null,
   "metadata": {},
   "outputs": [],
   "source": [
    "class ResponseFormat(Enum):\n",
    "    JSON = \"json_object\"\n",
    "    TEXT = \"text\"\n",
    "\n",
    "def call_model(\n",
    "        prompt: str, response_format: ResponseFormat = ResponseFormat.TEXT\n",
    ") -> str:\n",
    "    response = ollama.generate(\n",
    "        model=MODEL,\n",
    "        prompt=prompt,\n",
    "        keep_alive=\"1h\",\n",
    "        format=\"\" if response_format == ResponseFormat.TEXT else \"json\",\n",
    "        options={\"temperature\": TEMPERATURE}\n",
    "    )\n",
    "    return response[\"response\"]"
   ]
  },
  {
   "cell_type": "code",
   "execution_count": 78,
   "metadata": {},
   "outputs": [],
   "source": [
    "def encode_image_to_base64(image_path : str, format: str = 'PNG') -> str:\n",
    "    \"\"\" Encode image file to base64 string\n",
    "\n",
    "    Args:\n",
    "        image_path (str): Path to the image file.\n",
    "        format (str): Format to save the image in memory (default is PNG).\n",
    "\n",
    "    Returns:\n",
    "        str: Base64-encoded image.\n",
    "    \"\"\"\n",
    "    with Image.open(image_path) as img:\n",
    "        buffered = io.BytesIO()\n",
    "        img.save(buffered, format=format)\n",
    "        return base64.b64encode(buffered.getvalue()).decode('utf-8')\n",
    "\n",
    "def get_ocr_output_from_image(image_base64: str, model: str = \"x//llama3.2-vision\") -> str:\n",
    "    \"\"\"\n",
    "    Sends image to Llama OCR model and returns text output.\n",
    "\n",
    "    Args: \n",
    "        image_based (str) : Base64-encoded image string.\n",
    "        mopdel (str) : The model version to use for OCR (default is latest LLama3.2 Vision)\n",
    "    \"\"\"\n",
    "    response = ollama.chat(\n",
    "        model=model,\n",
    "        messages=[{\n",
    "            \"role\" : \"user\",\n",
    "            \"content\" : \"Your task is to extract key information from the image. The receipt will be in jpeg format. Extract the following details: - Store/Merchant name - Date of purchase - Time of purchase - Total amount - Tax amount (if specified) - Payment method - List of items purchased (including quantity and price for each) Provide the extracted information in a JSON format. Follow these guidelines: 1. If any information is unclear or not present in the receipt, use 'N/A' as the value. 2. Format the date as YYYY-MM-DD if possible. 3. Format the time in 24-hour format (HH:MM) if possible. 4. Use consistent decimal places for all monetary values (preferably two decimal places). Please provide the extracted information in JSON format below:\",\n",
    "            \"images\" : [image_base64]\n",
    "        }]\n",
    "    )\n",
    "    return response.get('message', {}).get('content', '').strip()"
   ]
  },
  {
   "cell_type": "code",
   "execution_count": null,
   "metadata": {},
   "outputs": [
    {
     "ename": "SyntaxError",
     "evalue": "f-string: unmatched ')' (<unknown>, line 24)",
     "output_type": "error",
     "traceback": [
      "Traceback \u001b[1;36m(most recent call last)\u001b[0m:\n",
      "  File \u001b[0;32m\"c:\\Users\\Lenovo\\anaconda3\\lib\\site-packages\\IPython\\core\\interactiveshell.py\"\u001b[0m, line \u001b[0;32m3457\u001b[0m, in \u001b[0;35mrun_code\u001b[0m\n    exec(code_obj, self.user_global_ns, self.user_ns)\n",
      "  File \u001b[0;32m\"C:\\Users\\Lenovo\\AppData\\Local\\Temp\\ipykernel_8432\\2046636757.py\"\u001b[0m, line \u001b[0;32m1\u001b[0m, in \u001b[0;35m<module>\u001b[0m\n    get_ipython().run_cell_magic('time', '', 'RECEIPT_PROMPT = f\"\"\"Your task is to extract key information from the following receipt text. The receipt may be in plain text or markdown format. Extract the following details:\\n \\n- Store/Merchant name\\n- Date of purchase\\n- Time of purchase\\n- Total amount\\n- Tax amount (if specified)\\n- Payment method\\n- List of items purchased (including quantity and price for each)\\n \\nProvide the extracted information in a JSON format. Follow these guidelines:\\n \\n1. If any information is unclear or not present in the receipt, use \"N/A\" as the value.\\n2. Format the date as YYYY-MM-DD if possible.\\n3. Format the time in 24-hour format (HH:MM) if possible.\\n4. Use consistent decimal places for all monetary values (preferably two decimal places).\\n \\nHere\\'s the receipt text:\\n \\n<receipt>\\n{receipt)}\\n</receipt>\\n \\nPlease provide the extracted information in JSON format below:\"\"\"\\n \\n')\n",
      "  File \u001b[0;32m\"c:\\Users\\Lenovo\\anaconda3\\lib\\site-packages\\IPython\\core\\interactiveshell.py\"\u001b[0m, line \u001b[0;32m2419\u001b[0m, in \u001b[0;35mrun_cell_magic\u001b[0m\n    result = fn(*args, **kwargs)\n",
      "  File \u001b[0;32m\"c:\\Users\\Lenovo\\anaconda3\\lib\\site-packages\\decorator.py\"\u001b[0m, line \u001b[0;32m232\u001b[0m, in \u001b[0;35mfun\u001b[0m\n    return caller(func, *(extras + args), **kw)\n",
      "  File \u001b[0;32m\"c:\\Users\\Lenovo\\anaconda3\\lib\\site-packages\\IPython\\core\\magic.py\"\u001b[0m, line \u001b[0;32m187\u001b[0m, in \u001b[0;35m<lambda>\u001b[0m\n    call = lambda f, *a, **k: f(*a, **k)\n",
      "  File \u001b[0;32m\"c:\\Users\\Lenovo\\anaconda3\\lib\\site-packages\\IPython\\core\\magics\\execution.py\"\u001b[0m, line \u001b[0;32m1291\u001b[0m, in \u001b[0;35mtime\u001b[0m\n    expr_ast = self.shell.compile.ast_parse(expr)\n",
      "\u001b[1;36m  File \u001b[1;32m\"c:\\Users\\Lenovo\\anaconda3\\lib\\site-packages\\IPython\\core\\compilerop.py\"\u001b[1;36m, line \u001b[1;32m101\u001b[1;36m, in \u001b[1;35mast_parse\u001b[1;36m\u001b[0m\n\u001b[1;33m    return compile(source, filename, symbol, self.flags | PyCF_ONLY_AST, 1)\u001b[0m\n",
      "\u001b[1;36m  File \u001b[1;32m\"<unknown>\"\u001b[1;36m, line \u001b[1;32m24\u001b[0m\n\u001b[1;33m    RECEIPT_PROMPT = f\"\"\"Your task is to extract key information from the following receipt text. The receipt may be in plain text or markdown format. Extract the following details:\n \n- Store/Merchant name\n- Date of purchase\n- Time of purchase\n- Total amount\n- Tax amount (if specified)\n- Payment method\n- List of items purchased (including quantity and price for each)\n \nProvide the extracted information in a JSON format. Follow these guidelines:\n \n1. If any information is unclear or not present in the receipt, use \"N/A\" as the value.\n2. Format the date as YYYY-MM-DD if possible.\n3. Format the time in 24-hour format (HH:MM) if possible.\n4. Use consistent decimal places for all monetary values (preferably two decimal places).\n \nHere's the receipt text:\n \n<receipt>\n{receipt)}\n</receipt>\n \nPlease provide the extracted information in JSON format below:\"\"\"\u001b[0m\n\u001b[1;37m                                                                     ^\u001b[0m\n\u001b[1;31mSyntaxError\u001b[0m\u001b[1;31m:\u001b[0m f-string: unmatched ')'\n"
     ]
    }
   ],
   "source": [
    "%%time\n",
    "RECEIPT_PROMPT = f\"\"\"Your task is to extract key information from the image. The receipt will be in jpeg format. Extract the following details:\n",
    " \n",
    "- Store/Merchant name\n",
    "- Date of purchase\n",
    "- Time of purchase\n",
    "- Total amount\n",
    "- Tax amount (if specified)\n",
    "- Payment method\n",
    "- List of items purchased (including quantity and price for each)\n",
    " \n",
    "Provide the extracted information in a JSON format. Follow these guidelines:\n",
    " \n",
    "1. If any information is unclear or not present in the receipt, use \"N/A\" as the value.\n",
    "2. Format the date as YYYY-MM-DD if possible.\n",
    "3. Format the time in 24-hour format (HH:MM) if possible.\n",
    "4. Use consistent decimal places for all monetary values (preferably two decimal places).\n",
    " \n",
    "Please provide the extracted information in JSON format below:\"\"\"\n",
    " "
   ]
  },
  {
   "cell_type": "code",
   "execution_count": 79,
   "metadata": {},
   "outputs": [
    {
     "ename": "ResponseError",
     "evalue": "model \"x//llama3.2-vision\" not found, try pulling it first",
     "output_type": "error",
     "traceback": [
      "\u001b[1;31m---------------------------------------------------------------------------\u001b[0m",
      "\u001b[1;31mResponseError\u001b[0m                             Traceback (most recent call last)",
      "\u001b[1;32m~\\AppData\\Local\\Temp\\ipykernel_8432\\1936646217.py\u001b[0m in \u001b[0;36m<module>\u001b[1;34m\u001b[0m\n\u001b[0;32m      2\u001b[0m     \u001b[0mimage_path\u001b[0m \u001b[1;33m=\u001b[0m \u001b[1;34mf'C:/Users/Lenovo/Documents/GitHub/Elec376_F24_group7/backend/ml/experiments/1.jpg'\u001b[0m\u001b[1;33m\u001b[0m\u001b[1;33m\u001b[0m\u001b[0m\n\u001b[0;32m      3\u001b[0m     \u001b[0mbase64_image\u001b[0m \u001b[1;33m=\u001b[0m \u001b[0mencode_image_to_base64\u001b[0m\u001b[1;33m(\u001b[0m\u001b[0mimage_path\u001b[0m\u001b[1;33m,\u001b[0m \u001b[0mformat\u001b[0m\u001b[1;33m=\u001b[0m\u001b[1;34m\"JPEG\"\u001b[0m\u001b[1;33m)\u001b[0m\u001b[1;33m\u001b[0m\u001b[1;33m\u001b[0m\u001b[0m\n\u001b[1;32m----> 4\u001b[1;33m     \u001b[0mocr_text\u001b[0m \u001b[1;33m=\u001b[0m \u001b[0mget_ocr_output_from_image\u001b[0m\u001b[1;33m(\u001b[0m\u001b[0mbase64_image\u001b[0m\u001b[1;33m)\u001b[0m\u001b[1;33m\u001b[0m\u001b[1;33m\u001b[0m\u001b[0m\n\u001b[0m\u001b[0;32m      5\u001b[0m     \u001b[0mprint\u001b[0m\u001b[1;33m(\u001b[0m\u001b[0mocr_text\u001b[0m\u001b[1;33m)\u001b[0m\u001b[1;33m\u001b[0m\u001b[1;33m\u001b[0m\u001b[0m\n",
      "\u001b[1;32m~\\AppData\\Local\\Temp\\ipykernel_8432\\2762960356.py\u001b[0m in \u001b[0;36mget_ocr_output_from_image\u001b[1;34m(image_base64, model)\u001b[0m\n\u001b[0;32m     22\u001b[0m         \u001b[0mmopdel\u001b[0m \u001b[1;33m(\u001b[0m\u001b[0mstr\u001b[0m\u001b[1;33m)\u001b[0m \u001b[1;33m:\u001b[0m \u001b[0mThe\u001b[0m \u001b[0mmodel\u001b[0m \u001b[0mversion\u001b[0m \u001b[0mto\u001b[0m \u001b[0muse\u001b[0m \u001b[1;32mfor\u001b[0m \u001b[0mOCR\u001b[0m \u001b[1;33m(\u001b[0m\u001b[0mdefault\u001b[0m \u001b[1;32mis\u001b[0m \u001b[0mlatest\u001b[0m \u001b[0mLLama3\u001b[0m\u001b[1;36m.2\u001b[0m \u001b[0mVision\u001b[0m\u001b[1;33m)\u001b[0m\u001b[1;33m\u001b[0m\u001b[1;33m\u001b[0m\u001b[0m\n\u001b[0;32m     23\u001b[0m     \"\"\"\n\u001b[1;32m---> 24\u001b[1;33m     response = ollama.chat(\n\u001b[0m\u001b[0;32m     25\u001b[0m         \u001b[0mmodel\u001b[0m\u001b[1;33m=\u001b[0m\u001b[0mmodel\u001b[0m\u001b[1;33m,\u001b[0m\u001b[1;33m\u001b[0m\u001b[1;33m\u001b[0m\u001b[0m\n\u001b[0;32m     26\u001b[0m         messages=[{\n",
      "\u001b[1;32mc:\\Users\\Lenovo\\anaconda3\\lib\\site-packages\\ollama\\_client.py\u001b[0m in \u001b[0;36mchat\u001b[1;34m(self, model, messages, tools, stream, format, options, keep_alive)\u001b[0m\n\u001b[0;32m    234\u001b[0m         \u001b[0mmessage\u001b[0m\u001b[1;33m[\u001b[0m\u001b[1;34m'images'\u001b[0m\u001b[1;33m]\u001b[0m \u001b[1;33m=\u001b[0m \u001b[1;33m[\u001b[0m\u001b[0m_encode_image\u001b[0m\u001b[1;33m(\u001b[0m\u001b[0mimage\u001b[0m\u001b[1;33m)\u001b[0m \u001b[1;32mfor\u001b[0m \u001b[0mimage\u001b[0m \u001b[1;32min\u001b[0m \u001b[0mimages\u001b[0m\u001b[1;33m]\u001b[0m\u001b[1;33m\u001b[0m\u001b[1;33m\u001b[0m\u001b[0m\n\u001b[0;32m    235\u001b[0m \u001b[1;33m\u001b[0m\u001b[0m\n\u001b[1;32m--> 236\u001b[1;33m     return self._request_stream(\n\u001b[0m\u001b[0;32m    237\u001b[0m       \u001b[1;34m'POST'\u001b[0m\u001b[1;33m,\u001b[0m\u001b[1;33m\u001b[0m\u001b[1;33m\u001b[0m\u001b[0m\n\u001b[0;32m    238\u001b[0m       \u001b[1;34m'/api/chat'\u001b[0m\u001b[1;33m,\u001b[0m\u001b[1;33m\u001b[0m\u001b[1;33m\u001b[0m\u001b[0m\n",
      "\u001b[1;32mc:\\Users\\Lenovo\\anaconda3\\lib\\site-packages\\ollama\\_client.py\u001b[0m in \u001b[0;36m_request_stream\u001b[1;34m(self, stream, *args, **kwargs)\u001b[0m\n\u001b[0;32m     97\u001b[0m     \u001b[1;33m**\u001b[0m\u001b[0mkwargs\u001b[0m\u001b[1;33m,\u001b[0m\u001b[1;33m\u001b[0m\u001b[1;33m\u001b[0m\u001b[0m\n\u001b[0;32m     98\u001b[0m   ) -> Union[Mapping[str, Any], Iterator[Mapping[str, Any]]]:\n\u001b[1;32m---> 99\u001b[1;33m     \u001b[1;32mreturn\u001b[0m \u001b[0mself\u001b[0m\u001b[1;33m.\u001b[0m\u001b[0m_stream\u001b[0m\u001b[1;33m(\u001b[0m\u001b[1;33m*\u001b[0m\u001b[0margs\u001b[0m\u001b[1;33m,\u001b[0m \u001b[1;33m**\u001b[0m\u001b[0mkwargs\u001b[0m\u001b[1;33m)\u001b[0m \u001b[1;32mif\u001b[0m \u001b[0mstream\u001b[0m \u001b[1;32melse\u001b[0m \u001b[0mself\u001b[0m\u001b[1;33m.\u001b[0m\u001b[0m_request\u001b[0m\u001b[1;33m(\u001b[0m\u001b[1;33m*\u001b[0m\u001b[0margs\u001b[0m\u001b[1;33m,\u001b[0m \u001b[1;33m**\u001b[0m\u001b[0mkwargs\u001b[0m\u001b[1;33m)\u001b[0m\u001b[1;33m.\u001b[0m\u001b[0mjson\u001b[0m\u001b[1;33m(\u001b[0m\u001b[1;33m)\u001b[0m\u001b[1;33m\u001b[0m\u001b[1;33m\u001b[0m\u001b[0m\n\u001b[0m\u001b[0;32m    100\u001b[0m \u001b[1;33m\u001b[0m\u001b[0m\n\u001b[0;32m    101\u001b[0m   \u001b[1;33m@\u001b[0m\u001b[0moverload\u001b[0m\u001b[1;33m\u001b[0m\u001b[1;33m\u001b[0m\u001b[0m\n",
      "\u001b[1;32mc:\\Users\\Lenovo\\anaconda3\\lib\\site-packages\\ollama\\_client.py\u001b[0m in \u001b[0;36m_request\u001b[1;34m(self, method, url, **kwargs)\u001b[0m\n\u001b[0;32m     73\u001b[0m       \u001b[0mresponse\u001b[0m\u001b[1;33m.\u001b[0m\u001b[0mraise_for_status\u001b[0m\u001b[1;33m(\u001b[0m\u001b[1;33m)\u001b[0m\u001b[1;33m\u001b[0m\u001b[1;33m\u001b[0m\u001b[0m\n\u001b[0;32m     74\u001b[0m     \u001b[1;32mexcept\u001b[0m \u001b[0mhttpx\u001b[0m\u001b[1;33m.\u001b[0m\u001b[0mHTTPStatusError\u001b[0m \u001b[1;32mas\u001b[0m \u001b[0me\u001b[0m\u001b[1;33m:\u001b[0m\u001b[1;33m\u001b[0m\u001b[1;33m\u001b[0m\u001b[0m\n\u001b[1;32m---> 75\u001b[1;33m       \u001b[1;32mraise\u001b[0m \u001b[0mResponseError\u001b[0m\u001b[1;33m(\u001b[0m\u001b[0me\u001b[0m\u001b[1;33m.\u001b[0m\u001b[0mresponse\u001b[0m\u001b[1;33m.\u001b[0m\u001b[0mtext\u001b[0m\u001b[1;33m,\u001b[0m \u001b[0me\u001b[0m\u001b[1;33m.\u001b[0m\u001b[0mresponse\u001b[0m\u001b[1;33m.\u001b[0m\u001b[0mstatus_code\u001b[0m\u001b[1;33m)\u001b[0m \u001b[1;32mfrom\u001b[0m \u001b[1;32mNone\u001b[0m\u001b[1;33m\u001b[0m\u001b[1;33m\u001b[0m\u001b[0m\n\u001b[0m\u001b[0;32m     76\u001b[0m \u001b[1;33m\u001b[0m\u001b[0m\n\u001b[0;32m     77\u001b[0m     \u001b[1;32mreturn\u001b[0m \u001b[0mresponse\u001b[0m\u001b[1;33m\u001b[0m\u001b[1;33m\u001b[0m\u001b[0m\n",
      "\u001b[1;31mResponseError\u001b[0m: model \"x//llama3.2-vision\" not found, try pulling it first"
     ]
    }
   ],
   "source": [
    "if __name__ == \"__main__\":\n",
    "    image_path = f'C:/Users/Lenovo/Documents/GitHub/Elec376_F24_group7/backend/ml/experiments/1.jpg'\n",
    "    base64_image = encode_image_to_base64(image_path, format=\"JPEG\")\n",
    "    ocr_text = get_ocr_output_from_image(base64_image)\n",
    "    print(ocr_text)"
   ]
  }
 ],
 "metadata": {
  "kernelspec": {
   "display_name": "base",
   "language": "python",
   "name": "python3"
  },
  "language_info": {
   "codemirror_mode": {
    "name": "ipython",
    "version": 3
   },
   "file_extension": ".py",
   "mimetype": "text/x-python",
   "name": "python",
   "nbconvert_exporter": "python",
   "pygments_lexer": "ipython3",
   "version": "3.9.13"
  }
 },
 "nbformat": 4,
 "nbformat_minor": 2
}
